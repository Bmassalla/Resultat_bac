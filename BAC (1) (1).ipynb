{
 "cells": [
  {
   "cell_type": "markdown",
   "metadata": {
    "application/vnd.databricks.v1+cell": {
     "cellMetadata": {},
     "inputWidgets": {},
     "nuid": "c3347ad4-ebbc-4e67-b688-12398ab7f3d2",
     "showTitle": false,
     "title": ""
    }
   },
   "source": [
    "# Exploration des Résultats des Admis au BAC 2024 en République du Congo\n",
    "\n",
    "Ce notebook présente une analyse exploratoire des résultats du BAC 2024 en République du Congo, réalisée en utilisant le langage SQL dans l'environnement Databricks. L'objectif principal de cette exploration est de comprendre les tendances des performances des étudiants à travers différentes séries (scientifique et littéraire) et de mettre en lumière les meilleures moyennes obtenues.\n",
    "\n",
    "Nous avons utilisé plusieurs requêtes SQL pour extraire, et visualiser les données, permettant ainsi d'identifier les étudiants ayant obtenu les meilleures performances, ainsi que les moyennes les plus élevées par série. Ce travail offre une vue d'ensemble des résultats, facilitant une compréhension approfondie des performances académiques des admis au BAC 2024."
   ]
  },
  {
   "cell_type": "markdown",
   "metadata": {
    "application/vnd.databricks.v1+cell": {
     "cellMetadata": {},
     "inputWidgets": {},
     "nuid": "dbd5405e-0c90-4154-b5b8-367093295c1e",
     "showTitle": false,
     "title": ""
    }
   },
   "source": [
    "## LISTE DES FICHIERS (TABLES) DANS LA BASE"
   ]
  },
  {
   "cell_type": "code",
   "execution_count": 0,
   "metadata": {
    "application/vnd.databricks.v1+cell": {
     "cellMetadata": {
      "byteLimit": 2048000,
      "rowLimit": 10000
     },
     "inputWidgets": {},
     "nuid": "2b57d4ca-c6d2-46aa-9f60-9d977ed098e2",
     "showTitle": false,
     "title": ""
    }
   },
   "outputs": [
    {
     "output_type": "display_data",
     "data": {
      "text/html": [
       "<style scoped>\n",
       "  .table-result-container {\n",
       "    max-height: 300px;\n",
       "    overflow: auto;\n",
       "  }\n",
       "  table, th, td {\n",
       "    border: 1px solid black;\n",
       "    border-collapse: collapse;\n",
       "  }\n",
       "  th, td {\n",
       "    padding: 5px;\n",
       "  }\n",
       "  th {\n",
       "    text-align: left;\n",
       "  }\n",
       "</style><div class='table-result-container'><table class='table-result'><thead style='background-color: white'><tr><th>path</th><th>name</th><th>size</th><th>modificationTime</th></tr></thead><tbody><tr><td>dbfs:/FileStore/tables/BAC.csv</td><td>BAC.csv</td><td>4225622</td><td>1724508908000</td></tr></tbody></table></div>"
      ]
     },
     "metadata": {
      "application/vnd.databricks.v1+output": {
       "addedWidgets": {},
       "aggData": [],
       "aggError": "",
       "aggOverflow": false,
       "aggSchema": [],
       "aggSeriesLimitReached": false,
       "aggType": "",
       "arguments": {},
       "columnCustomDisplayInfos": {},
       "data": [
        [
         "dbfs:/FileStore/tables/BAC.csv",
         "BAC.csv",
         4225622,
         1724508908000
        ]
       ],
       "datasetInfos": [],
       "dbfsResultPath": null,
       "isJsonSchema": true,
       "metadata": {},
       "overflow": false,
       "plotOptions": {
        "customPlotOptions": {},
        "displayType": "table",
        "pivotAggregation": null,
        "pivotColumns": null,
        "xColumns": null,
        "yColumns": null
       },
       "removedWidgets": [],
       "schema": [
        {
         "metadata": "{}",
         "name": "path",
         "type": "\"string\""
        },
        {
         "metadata": "{}",
         "name": "name",
         "type": "\"string\""
        },
        {
         "metadata": "{}",
         "name": "size",
         "type": "\"long\""
        },
        {
         "metadata": "{}",
         "name": "modificationTime",
         "type": "\"long\""
        }
       ],
       "type": "table"
      }
     },
     "output_type": "display_data"
    }
   ],
   "source": [
    "display(dbutils.fs.ls(\"dbfs:/FileStore/tables\"))"
   ]
  },
  {
   "cell_type": "code",
   "execution_count": 0,
   "metadata": {
    "application/vnd.databricks.v1+cell": {
     "cellMetadata": {
      "byteLimit": 2048000,
      "rowLimit": 10000
     },
     "inputWidgets": {},
     "nuid": "4f185144-95d4-40d8-8deb-dae97fd8de41",
     "showTitle": false,
     "title": ""
    }
   },
   "outputs": [
    {
     "output_type": "stream",
     "name": "stdout",
     "output_type": "stream",
     "text": [
      "Out[2]: False"
     ]
    }
   ],
   "source": [
    "# Spécifiez le chemin complet du fichier à supprimer\n",
    "#file_path = \"dbfs:/FileStore/tables/BAC.csv\"\n",
    "\n",
    "# Supprimez le fichier\n",
    "#dbutils.fs.rm(file_path, True)\n"
   ]
  },
  {
   "cell_type": "markdown",
   "metadata": {
    "application/vnd.databricks.v1+cell": {
     "cellMetadata": {},
     "inputWidgets": {},
     "nuid": "95ae53c3-0e63-478e-8aa8-6b3701f198ca",
     "showTitle": false,
     "title": ""
    }
   },
   "source": [
    "## SELECTION DE LA TABLE (FICHIER) A UTILISER"
   ]
  },
  {
   "cell_type": "code",
   "execution_count": 0,
   "metadata": {
    "application/vnd.databricks.v1+cell": {
     "cellMetadata": {
      "byteLimit": 2048000,
      "rowLimit": 10000
     },
     "inputWidgets": {},
     "nuid": "b0f53e0d-4ad7-441e-bd02-637cce942619",
     "showTitle": false,
     "title": ""
    }
   },
   "outputs": [],
   "source": [
    "# import du fichier bac.csv\n",
    "\n",
    "df=spark.read.csv(\"dbfs:/FileStore/tables/BAC.csv\")"
   ]
  },
  {
   "cell_type": "code",
   "execution_count": 0,
   "metadata": {
    "application/vnd.databricks.v1+cell": {
     "cellMetadata": {
      "byteLimit": 2048000,
      "rowLimit": 10000
     },
     "inputWidgets": {},
     "nuid": "3d360714-bdbb-40d3-8d30-20b5ae14e918",
     "showTitle": false,
     "title": ""
    }
   },
   "outputs": [
    {
     "output_type": "stream",
     "name": "stdout",
     "output_type": "stream",
     "text": [
      "+-------------+\n|     col_name|\n+-------------+\n|    MATRICULE|\n|          NOM|\n|       PRENOM|\n|  DATE_DE_NCE|\n|  LIEU_DE_NCE|\n|         SEXE|\n|         CODE|\n|        SERIE|\n|      MOYENNE|\n|      MENTION|\n|ETABLISSEMENT|\n+-------------+\n\n"
     ]
    }
   ],
   "source": [
    "#Liste des variables dans le jeu de données\n",
    "var = spark.sql ('''\n",
    "show columns from bac\n",
    "''')\n",
    "var.show()"
   ]
  },
  {
   "cell_type": "code",
   "execution_count": 0,
   "metadata": {
    "application/vnd.databricks.v1+cell": {
     "cellMetadata": {
      "byteLimit": 2048000,
      "implicitDf": true,
      "rowLimit": 10000
     },
     "inputWidgets": {},
     "nuid": "e5e083de-d71c-41c8-8c98-ef2f3307174b",
     "showTitle": false,
     "title": ""
    }
   },
   "outputs": [
    {
     "output_type": "stream",
     "name": "stdout",
     "output_type": "stream",
     "text": [
      "+----------------------+\n|NOMBRE_TOTAL_DES_ADMIS|\n+----------------------+\n|                 39876|\n+----------------------+\n\n"
     ]
    }
   ],
   "source": [
    "\n",
    "# Nombre total des admis toute serie confondue\n",
    "\n",
    "TOTAL = spark.sql (''' \n",
    "   select count(matricule) AS NOMBRE_TOTAL_DES_ADMIS\n",
    "    FROM BAC\n",
    "''')\n",
    "TOTAL.show()"
   ]
  },
  {
   "cell_type": "markdown",
   "metadata": {
    "application/vnd.databricks.v1+cell": {
     "cellMetadata": {},
     "inputWidgets": {},
     "nuid": "44fbf7bb-780e-40ca-a68a-1e2b59fc0b35",
     "showTitle": false,
     "title": ""
    }
   },
   "source": [
    "## 10 PREMIERS TOUTE SERIE CONFONDUE\n",
    "\n"
   ]
  },
  {
   "cell_type": "code",
   "execution_count": 0,
   "metadata": {
    "application/vnd.databricks.v1+cell": {
     "cellMetadata": {
      "byteLimit": 2048000,
      "implicitDf": true,
      "rowLimit": 10000
     },
     "inputWidgets": {},
     "nuid": "102038d4-c518-4811-904d-10d86fadc7e6",
     "showTitle": false,
     "title": ""
    }
   },
   "outputs": [
    {
     "output_type": "stream",
     "name": "stdout",
     "output_type": "stream",
     "text": [
      "+------------------+--------------------+----+-------+-----+--------------------+\n|               NOM|              PRENOM|SEXE|MOYENNE|SERIE|       ETABLISSEMENT|\n+------------------+--------------------+----+-------+-----+--------------------+\n|MAYANDZA MOUKANDZA|        Bruce Miguel|   M|   16.3|    C|LYCEE INTER-DEPAR...|\n|            TEBELE|  Joëldie Belcharina|   F|  16.16|   A4|LYCEE INTER-DEPAR...|\n|   KIHOULOU NDEMBO|      Manich Vichnel|   M|  16.08|    C|LYCEE INTER-DEPAR...|\n|MBOUALA - NTSOUHOU|      Rebecca  Olive|   F|  16.03|    D|     C.S. EMMANUEL 1|\n|         NGATSIEBE|      Richi Bernichi|   M|   16.0|    D|      LYCEE DE NGABE|\n|           MAKONKI|Suzy Luchress Rap...|   M|  15.79|    D|LYCEE D'EXCELLENC...|\n|            ONGOUI|       Maria Paulina|   F|  15.76|    D|CANDIDATS LIBRES ...|\n|KOUANDZI-MOUKOUELO|        Frey Bechard|   M|  15.76|    C|LYCEE INTER-DEPAR...|\n|       MOUEBAKOLET|      Pachico Estime|   M|   15.7|    D|     LYCEE DE OUESSO|\n|           ONDONGO|         Chris Vialy|   M|  15.68|    D|CAND. LIBRES DE B...|\n+------------------+--------------------+----+-------+-----+--------------------+\n\n"
     ]
    }
   ],
   "source": [
    "\n",
    "# Liste  des 10 premiers admis au BAC 2024\n",
    "\n",
    "P10TSC = spark.sql('''\n",
    "                   SELECT NOM, PRENOM, SEXE, MOYENNE, SERIE, ETABLISSEMENT\n",
    "FROM BAC\n",
    "ORDER BY MOYENNE DESC\n",
    "LIMIT 10\n",
    "                   ''')\n",
    "P10TSC.show()"
   ]
  },
  {
   "cell_type": "markdown",
   "metadata": {
    "application/vnd.databricks.v1+cell": {
     "cellMetadata": {},
     "inputWidgets": {},
     "nuid": "a836197f-e21f-41e4-a4c1-6565a5d9e8db",
     "showTitle": false,
     "title": ""
    }
   },
   "source": [
    "## ADMIS AVEC LA DEUXIEME MOYENNE LA PLUS ELEVEE"
   ]
  },
  {
   "cell_type": "code",
   "execution_count": 0,
   "metadata": {
    "application/vnd.databricks.v1+cell": {
     "cellMetadata": {
      "byteLimit": 2048000,
      "implicitDf": true,
      "rowLimit": 10000
     },
     "inputWidgets": {},
     "nuid": "572b6839-f574-4b41-929b-ba33b0eeac7d",
     "showTitle": false,
     "title": ""
    }
   },
   "outputs": [
    {
     "output_type": "stream",
     "name": "stdout",
     "output_type": "stream",
     "text": [
      "+-----------+------+------------------+----+-----+------------------+--------------------+\n|  MATRICULE|   NOM|            PRENOM|SEXE|SERIE|SECOND_HIGHEST_AVG|       ETABLISSEMENT|\n+-----------+------+------------------+----+-----+------------------+--------------------+\n|A4ABQ240010|TEBELE|Joëldie Belcharina|   F|   A4|             16.16|LYCEE INTER-DEPAR...|\n+-----------+------+------------------+----+-----+------------------+--------------------+\n\n"
     ]
    }
   ],
   "source": [
    "# Admis avec la deuxième moyenne la plus elevée\n",
    "\n",
    "SHM = spark.sql('''\n",
    "SELECT BAC.MATRICULE, NOM, PRENOM, SEXE, SERIE, MOYENNE AS SECOND_HIGHEST_AVG, BAC.ETABLISSEMENT\n",
    "FROM BAC\n",
    "WHERE MOYENNE = (\n",
    "    SELECT MAX(MOYENNE)\n",
    "    FROM BAC\n",
    "    WHERE MOYENNE < (SELECT MAX(MOYENNE) FROM BAC)\n",
    ");\n",
    "               ''')\n",
    "\n",
    "SHM.show()"
   ]
  },
  {
   "cell_type": "markdown",
   "metadata": {
    "application/vnd.databricks.v1+cell": {
     "cellMetadata": {
      "byteLimit": 2048000,
      "rowLimit": 10000
     },
     "inputWidgets": {},
     "nuid": "93079827-b44f-4e05-862c-b8e1b8bc8de7",
     "showTitle": false,
     "title": ""
    }
   },
   "source": [
    "\n",
    "## LISTE DES ADMIS AVEC LA MOYENNE LA PLUS ELEVEE PAR SERIE\n",
    "\n"
   ]
  },
  {
   "cell_type": "code",
   "execution_count": 0,
   "metadata": {
    "application/vnd.databricks.v1+cell": {
     "cellMetadata": {
      "byteLimit": 2048000,
      "implicitDf": true,
      "rowLimit": 10000
     },
     "inputWidgets": {},
     "nuid": "76f85140-a229-4ec8-815b-048bdc3225e7",
     "showTitle": false,
     "title": ""
    }
   },
   "outputs": [
    {
     "output_type": "stream",
     "name": "stdout",
     "output_type": "stream",
     "text": [
      "+------------------+------------------+-----+-------+\n|               NOM|            PRENOM|SERIE|MOYENNE|\n+------------------+------------------+-----+-------+\n|MAYANDZA MOUKANDZA|      Bruce Miguel|    C|   16.3|\n|            TEBELE|Joëldie Belcharina|   A4|  16.16|\n|MBOUALA - NTSOUHOU|    Rebecca  Olive|    D|  16.03|\n|         MANTOUARI|Romelique Anderson|   A2|  14.62|\n|            ILENDA|  Divine Celestine|   A3|  11.86|\n+------------------+------------------+-----+-------+\n\n"
     ]
    }
   ],
   "source": [
    "# Liste des meuilleurs pour chaque serie, premier de chaque serie uniquement\n",
    "\n",
    "MOYSERIE = spark.sql( ''' \n",
    "SELECT NOM, BAC.PRENOM, BAC.SERIE, MOYENNE\n",
    "FROM BAC\n",
    "INNER JOIN (\n",
    "    SELECT SERIE, MAX(MOYENNE) AS MAX_MOYENNE\n",
    "    FROM BAC\n",
    "    GROUP BY SERIE\n",
    ") AS SUBQUERY\n",
    "ON BAC.SERIE = SUBQUERY.SERIE AND BAC.MOYENNE = SUBQUERY.MAX_MOYENNE\n",
    "ORDER BY BAC.MOYENNE DESC \n",
    "''')\n",
    "\n",
    "MOYSERIE.show()"
   ]
  },
  {
   "cell_type": "code",
   "execution_count": 0,
   "metadata": {
    "application/vnd.databricks.v1+cell": {
     "cellMetadata": {},
     "inputWidgets": {},
     "nuid": "d330bf06-a1a3-41d6-9288-b381ffe237b1",
     "showTitle": false,
     "title": ""
    }
   },
   "outputs": [],
   "source": []
  },
  {
   "cell_type": "markdown",
   "metadata": {
    "application/vnd.databricks.v1+cell": {
     "cellMetadata": {},
     "inputWidgets": {},
     "nuid": "5aa6f346-66af-479f-b925-0df39cc1f066",
     "showTitle": false,
     "title": ""
    }
   },
   "source": [
    "## TP10 SERIE C\n",
    "\n"
   ]
  },
  {
   "cell_type": "code",
   "execution_count": 0,
   "metadata": {
    "application/vnd.databricks.v1+cell": {
     "cellMetadata": {
      "byteLimit": 2048000,
      "rowLimit": 10000
     },
     "inputWidgets": {},
     "nuid": "888ec03b-6146-4102-857b-ef2511e93c63",
     "showTitle": false,
     "title": ""
    }
   },
   "outputs": [
    {
     "output_type": "stream",
     "name": "stdout",
     "output_type": "stream",
     "text": [
      "+------------------+--------------------+----+-------+-----+--------------------+\n|               NOM|              PRENOM|SEXE|MOYENNE|SERIE|       ETABLISSEMENT|\n+------------------+--------------------+----+-------+-----+--------------------+\n|MAYANDZA MOUKANDZA|        Bruce Miguel|   M|   16.3|    C|LYCEE INTER-DEPAR...|\n|   KIHOULOU NDEMBO|      Manich Vichnel|   M|  16.08|    C|LYCEE INTER-DEPAR...|\n|KOUANDZI-MOUKOUELO|        Frey Bechard|   M|  15.76|    C|LYCEE INTER-DEPAR...|\n|  MAMPAKA MABOULOU|    Dreech Merveille|   M|  15.66|    C|LYCEE INTER-DEPAR...|\n|          MBOUNGOU|    Cherubin Hulrich|   M|   15.6|    C|LYCEE INTER-DEPAR...|\n|              YIKA|Emmanuel Boderich...|   M|  15.49|    C|LYCEE INTER-DEPAR...|\n|        GOMA MBANI|       Claude Arsène|   M|  15.36|    C|LYCEE INTER-DEPAR...|\n|             EKOKI|    Franspéra Junior|   M|  15.35|    C|LYCEE INTER-DEPAR...|\n|     IBAïBE OKOMBI|     Brayane Shékina|   M|  15.35|    C|     LYCEE CHAMINADE|\n|         MONGWASSA|        Admirah Isis|   M|   15.3|    C|LYCEE INTER-DEPAR...|\n+------------------+--------------------+----+-------+-----+--------------------+\n\n"
     ]
    }
   ],
   "source": [
    "# les 10 meuilleurs de la serie C\n",
    "\n",
    "TOP10C =spark.sql(''' \n",
    "                  SELECT NOM, PRENOM, SEXE, MOYENNE, SERIE, ETABLISSEMENT\n",
    "FROM BAC\n",
    "WHERE SERIE =\"C\"\n",
    "ORDER BY MOYENNE DESC\n",
    "LIMIT 10\n",
    "                  ''')\n",
    "TOP10C.show()"
   ]
  },
  {
   "cell_type": "markdown",
   "metadata": {
    "application/vnd.databricks.v1+cell": {
     "cellMetadata": {},
     "inputWidgets": {},
     "nuid": "cb8a1216-ba2f-493f-aaa8-861c12c44d11",
     "showTitle": false,
     "title": ""
    }
   },
   "source": [
    "##TOP10 SERIE D\n",
    "\n"
   ]
  },
  {
   "cell_type": "code",
   "execution_count": 0,
   "metadata": {
    "application/vnd.databricks.v1+cell": {
     "cellMetadata": {
      "byteLimit": 2048000,
      "rowLimit": 10000
     },
     "inputWidgets": {},
     "nuid": "557016f7-f91f-461a-bcbc-4914ac4bbbf8",
     "showTitle": false,
     "title": ""
    }
   },
   "outputs": [
    {
     "output_type": "stream",
     "name": "stdout",
     "output_type": "stream",
     "text": [
      "+------------------+--------------------+----+-------+-----+--------------------+\n|               NOM|              PRENOM|SEXE|MOYENNE|SERIE|       ETABLISSEMENT|\n+------------------+--------------------+----+-------+-----+--------------------+\n|MBOUALA - NTSOUHOU|      Rebecca  Olive|   F|  16.03|    D|     C.S. EMMANUEL 1|\n|         NGATSIEBE|      Richi Bernichi|   M|   16.0|    D|      LYCEE DE NGABE|\n|           MAKONKI|Suzy Luchress Rap...|   M|  15.79|    D|LYCEE D'EXCELLENC...|\n|            ONGOUI|       Maria Paulina|   F|  15.76|    D|CANDIDATS LIBRES ...|\n|       MOUEBAKOLET|      Pachico Estime|   M|   15.7|    D|     LYCEE DE OUESSO|\n|           ONDONGO|         Chris Vialy|   M|  15.68|    D|CAND. LIBRES DE B...|\n|             NGUIE|       Bonheur Divin|   M|  15.64|    D|      GS VICTOR HUGO|\n|    ITOUA MOULANGA|   Landricia Aminata|   F|  15.52|    D|LYCEE CATHOLIQUE ...|\n|      TSATY MAKAYA|   Verole Jubertrine|   F|  15.46|    D|LYCEE D'EXCELLENC...|\n|            TANDIA|               Aicha|   F|  15.44|    D|      GS VICTOR HUGO|\n+------------------+--------------------+----+-------+-----+--------------------+\n\n"
     ]
    }
   ],
   "source": [
    "# Liste des 10 meuilleurs de la serie D\n",
    "TOP10D =spark.sql(''' \n",
    "                  SELECT NOM, PRENOM, SEXE, MOYENNE, SERIE, ETABLISSEMENT\n",
    "FROM BAC\n",
    "WHERE SERIE =\"D\"\n",
    "ORDER BY MOYENNE DESC\n",
    "LIMIT 10\n",
    "                  ''')\n",
    "\n",
    "TOP10D.show()"
   ]
  },
  {
   "cell_type": "markdown",
   "metadata": {
    "application/vnd.databricks.v1+cell": {
     "cellMetadata": {},
     "inputWidgets": {},
     "nuid": "a54ed2ef-a930-4b7a-9e18-bb1db453ccd5",
     "showTitle": false,
     "title": ""
    }
   },
   "source": [
    "## TOP10 SERIE A4\n",
    "\n",
    "Liste des 10 meuilleurs de la serie A4"
   ]
  },
  {
   "cell_type": "code",
   "execution_count": 0,
   "metadata": {
    "application/vnd.databricks.v1+cell": {
     "cellMetadata": {
      "byteLimit": 2048000,
      "rowLimit": 10000
     },
     "inputWidgets": {},
     "nuid": "d4d35c52-be17-49b6-ae04-58bf4ff799aa",
     "showTitle": false,
     "title": ""
    }
   },
   "outputs": [
    {
     "output_type": "stream",
     "name": "stdout",
     "output_type": "stream",
     "text": [
      "+------------------+--------------------+----+-------+-----+--------------------+\n|               NOM|              PRENOM|SEXE|MOYENNE|SERIE|       ETABLISSEMENT|\n+------------------+--------------------+----+-------+-----+--------------------+\n|            TEBELE|  Joëldie Belcharina|   F|  16.16|   A4|LYCEE INTER-DEPAR...|\n|         MAVOUNGOU|     Carla Nephtalie|   F|  15.66|   A4|         GSP L ALPHA|\n|   KATALI MILANDOU|   Lucie Anne Sophie|   F|  15.58|   A4|    GS SACRE - COEUR|\n|   EDOUARD MFOUROU|     Nellie Rogeltty|   F|   15.5|   A4|     LYCEE CHAMINADE|\n|             MBIZI|Will  Jewel Mac- ...|   M|  15.44|   A4|CS BILINGUE LIGHT...|\n|TCHINGOUTA KAYEMBE|        Brèche Sarah|   F|  15.42|   A4|   DOM HELDER CAMARA|\n| NDAKOUZI LUSADISU|Gloire Jeanne Bon...|   F|  15.36|   A4|LYCEE INTER-DEPAR...|\n|             KONGO|        Gräce Divine|   F|  15.36|   A4|       GS EMMANCEL 2|\n|             GANGA|        Dan Andrersy|   M|   15.3|   A4|     LYCEE CHAMINADE|\n|          LONDZENI|             Franchy|   M|   15.3|   A4|    LYCEE DE MOSSAKA|\n+------------------+--------------------+----+-------+-----+--------------------+\n\n"
     ]
    }
   ],
   "source": [
    "# Liste des 10 meuilleurs de la serie A4\n",
    "TOP10A4=spark.sql(''' \n",
    "                  SELECT NOM, PRENOM, SEXE, MOYENNE, SERIE, ETABLISSEMENT\n",
    "FROM BAC\n",
    "WHERE SERIE =\"A4\"\n",
    "ORDER BY MOYENNE DESC\n",
    "LIMIT 10\n",
    "                  ''')\n",
    "\n",
    "TOP10A4.show()"
   ]
  },
  {
   "cell_type": "markdown",
   "metadata": {
    "application/vnd.databricks.v1+cell": {
     "cellMetadata": {},
     "inputWidgets": {},
     "nuid": "30765213-31ba-450f-9816-9d33dfddfd88",
     "showTitle": false,
     "title": ""
    }
   },
   "source": [
    "## TOP10 SERIE A2"
   ]
  },
  {
   "cell_type": "code",
   "execution_count": 0,
   "metadata": {
    "application/vnd.databricks.v1+cell": {
     "cellMetadata": {
      "byteLimit": 2048000,
      "rowLimit": 10000
     },
     "inputWidgets": {},
     "nuid": "9e09f23c-f7b7-4006-a254-ae25ef03b9c0",
     "showTitle": false,
     "title": ""
    }
   },
   "outputs": [
    {
     "output_type": "stream",
     "name": "stdout",
     "output_type": "stream",
     "text": [
      "+-------------------+--------------------+----+-------+-----+--------------------+\n|                NOM|              PRENOM|SEXE|MOYENNE|SERIE|       ETABLISSEMENT|\n+-------------------+--------------------+----+-------+-----+--------------------+\n|          MANTOUARI|  Romelique Anderson|   M|  14.62|   A2|CAND. LIBRES DE B...|\n|        MAYEKE YOKA|Constant Mignon Noël|   M|   14.5|   A2|SEMINAIRE SAINT P...|\n|     ZONIABA  ABBAH|   Henrica Clémencia|   F|  14.38|   A2| ANNE MARIE JAVOUHEY|\n|              TOURE|              Mamadi|   M|  14.34|   A2|G. S. DOM HELDER ...|\n|   ZOGUIWALO POYINA|  Dominique Emmanuel|   M|  13.94|   A2|CS BIENHEUREUSE M...|\n| KIBANGARY NTONDELE|     Mondesir Guelvy|   M|  13.92|   A2| SEMINAIRE DE LOANGO|\n|           HABIMANA|            Alfreide|   M|  13.78|   A2|SEMINAIRE SAINT P...|\n|TCHOKONGUEU SITCHEU|Christ Mignon Nou...|   M|   13.6|   A2|G. S. DOM HELDER ...|\n|       SAMBA VIANEY|        Isaac Aloïse|   M|  13.56|   A2|SEMINAIRE SAINT P...|\n|              PINDI|Sharone Elisée Yo...|   F|  13.54|   A2|ECOLE SAINT FRANC...|\n+-------------------+--------------------+----+-------+-----+--------------------+\n\n"
     ]
    }
   ],
   "source": [
    "# Liste des 10 meuilleurs de la serie A2\n",
    "\n",
    "TOP10A2=spark.sql('''\n",
    "                  SELECT NOM, PRENOM, SEXE, MOYENNE, SERIE, ETABLISSEMENT\n",
    "FROM BAC\n",
    "WHERE SERIE =\"A2\"\n",
    "ORDER BY MOYENNE DESC\n",
    "LIMIT 10\n",
    "                  ''')\n",
    "\n",
    "TOP10A2.show()"
   ]
  },
  {
   "cell_type": "markdown",
   "metadata": {
    "application/vnd.databricks.v1+cell": {
     "cellMetadata": {},
     "inputWidgets": {},
     "nuid": "9158c6f7-59c2-46c8-8cf9-085455e05076",
     "showTitle": false,
     "title": ""
    }
   },
   "source": [
    "## TOP10 SERIE A3"
   ]
  },
  {
   "cell_type": "code",
   "execution_count": 0,
   "metadata": {
    "application/vnd.databricks.v1+cell": {
     "cellMetadata": {
      "byteLimit": 2048000,
      "rowLimit": 10000
     },
     "inputWidgets": {},
     "nuid": "cb9d9a9b-1a5a-4658-b229-d82b5ea4d109",
     "showTitle": false,
     "title": ""
    }
   },
   "outputs": [
    {
     "output_type": "stream",
     "name": "stdout",
     "output_type": "stream",
     "text": [
      "+------+----------------+----+-------+-----+------------------+\n|   NOM|          PRENOM|SEXE|MOYENNE|SERIE|     ETABLISSEMENT|\n+------+----------------+----+-------+-----+------------------+\n|ILENDA|Divine Celestine|   F|  11.86|   A3|CS LEAURRY-FLORIDE|\n+------+----------------+----+-------+-----+------------------+\n\n"
     ]
    }
   ],
   "source": [
    "# Liste des meuilleurs de la serie A3, \n",
    "\n",
    "TOP10A3=spark.sql('''\n",
    "                  SELECT NOM, PRENOM, SEXE, MOYENNE, SERIE, ETABLISSEMENT\n",
    "FROM BAC\n",
    "WHERE SERIE =\"A3\"\n",
    "ORDER BY MOYENNE DESC\n",
    "LIMIT 10\n",
    "                  ''')\n",
    "\n",
    "TOP10A3.show()"
   ]
  },
  {
   "cell_type": "code",
   "execution_count": 0,
   "metadata": {
    "application/vnd.databricks.v1+cell": {
     "cellMetadata": {
      "byteLimit": 2048000,
      "rowLimit": 10000
     },
     "inputWidgets": {},
     "nuid": "7927b888-8f7a-4060-8b6d-fd4bf335036b",
     "showTitle": false,
     "title": ""
    }
   },
   "outputs": [],
   "source": []
  },
  {
   "cell_type": "markdown",
   "metadata": {
    "application/vnd.databricks.v1+cell": {
     "cellMetadata": {},
     "inputWidgets": {},
     "nuid": "db11a4b3-3d0a-455b-9572-5b4f2035c171",
     "showTitle": false,
     "title": ""
    }
   },
   "source": [
    "## EFFECTIF PAR MAOYENNE"
   ]
  },
  {
   "cell_type": "code",
   "execution_count": 0,
   "metadata": {
    "application/vnd.databricks.v1+cell": {
     "cellMetadata": {
      "byteLimit": 2048000,
      "rowLimit": 10000
     },
     "inputWidgets": {},
     "nuid": "761a2dbb-544a-4402-a1b8-24ca99d2c074",
     "showTitle": false,
     "title": ""
    }
   },
   "outputs": [
    {
     "output_type": "stream",
     "name": "stdout",
     "output_type": "stream",
     "text": [
      "+----------------+--------+\n|MOYENNE_TRONQUEE|EFFECTIF|\n+----------------+--------+\n|              10|   14529|\n|              12|    8794|\n|              11|   13911|\n|              13|    2060|\n|              14|     505|\n|              15|      72|\n|              16|       5|\n+----------------+--------+\n\n"
     ]
    }
   ],
   "source": [
    "# effectif total pour chaque moyenne allant de 10 à 16\n",
    "\n",
    "df2=spark.sql('''\n",
    "              \n",
    "              SELECT FLOOR(MOYENNE) AS MOYENNE_TRONQUEE, COUNT(*) AS EFFECTIF\n",
    "              FROM BAC\n",
    "              GROUP BY MOYENNE_TRONQUEE\n",
    "              ''')\n",
    "df2.show()"
   ]
  },
  {
   "cell_type": "markdown",
   "metadata": {
    "application/vnd.databricks.v1+cell": {
     "cellMetadata": {},
     "inputWidgets": {},
     "nuid": "c5d69d24-76a7-45fa-9709-fc2dc44efc06",
     "showTitle": false,
     "title": ""
    }
   },
   "source": [
    "## NOMBRE DES ADMIS PAR SERIE"
   ]
  },
  {
   "cell_type": "code",
   "execution_count": 0,
   "metadata": {
    "application/vnd.databricks.v1+cell": {
     "cellMetadata": {
      "byteLimit": 2048000,
      "rowLimit": 10000
     },
     "inputWidgets": {},
     "nuid": "69fc611b-355f-4f14-b7fd-86456a069cae",
     "showTitle": false,
     "title": ""
    }
   },
   "outputs": [
    {
     "output_type": "stream",
     "name": "stdout",
     "output_type": "stream",
     "text": [
      "+-----+------------------+\n|SERIE|NB_ADMIS_PAR_SERIE|\n+-----+------------------+\n|    D|             23948|\n|   A4|             13983|\n|    C|              1867|\n|   A2|                77|\n|   A3|                 1|\n+-----+------------------+\n\n"
     ]
    }
   ],
   "source": [
    "# Effectif total des admis par serie\n",
    "\n",
    "df3=spark.sql('''\n",
    "              \n",
    "              SELECT SERIE, COUNT(*) AS NB_ADMIS_PAR_SERIE\n",
    "              FROM BAC\n",
    "              GROUP BY SERIE\n",
    "              ORDER BY NB_ADMIS_PAR_SERIE DESC\n",
    "              ''')\n",
    "df3.show()"
   ]
  },
  {
   "cell_type": "markdown",
   "metadata": {
    "application/vnd.databricks.v1+cell": {
     "cellMetadata": {},
     "inputWidgets": {},
     "nuid": "04d68560-3997-46a2-972d-4b3a70698d48",
     "showTitle": false,
     "title": ""
    }
   },
   "source": [
    "## EFFECTIF DES ADMIS PAR ETABLISSEMENT"
   ]
  },
  {
   "cell_type": "code",
   "execution_count": 0,
   "metadata": {
    "application/vnd.databricks.v1+cell": {
     "cellMetadata": {
      "byteLimit": 2048000,
      "implicitDf": true,
      "rowLimit": 10000
     },
     "inputWidgets": {},
     "nuid": "df308234-b500-49aa-9c3c-68a947a4243c",
     "showTitle": false,
     "title": ""
    }
   },
   "outputs": [
    {
     "output_type": "stream",
     "name": "stdout",
     "output_type": "stream",
     "text": [
      "+--------------------+---------+\n|       ETABLISSEMENT|TOTAL_ETS|\n+--------------------+---------+\n|CAND. LIBRES DE B...|     2376|\n|LYCEE THOMAS SANK...|     1083|\n|LYCEE THOMAS SANK...|      797|\n|LYCEE DE LA REVOL...|      730|\n|CAND. LIBRES DE P...|      725|\n|LYCEE SEBASTIEN M...|      644|\n|    LYCEE DE MPAKA I|      643|\n|  LYCEE 30 MARS 1970|      642|\n|    LYCEE DE KINTELE|      626|\n|LYCEE NGANGA EDOUARD|      609|\n|LYCEE DE LA RECON...|      584|\n|LYCEE J. B. TATY ...|      577|\n|     LYCEE CHAMINADE|      540|\n|   LYCEE DE MADINGOU|      528|\n|      LYCEE DE NKAYI|      525|\n+--------------------+---------+\n\n"
     ]
    }
   ],
   "source": [
    "\n",
    "# effectif total des admis par ordre alphabetique\n",
    "TOPETS = spark.sql('''          \n",
    "         SELECT ETABLISSEMENT, count(ETABLISSEMENT) AS TOTAL_ETS\n",
    "FROM bac\n",
    "GROUP BY ETABLISSEMENT\n",
    "ORDER BY TOTAL_ETS DESC\n",
    "LIMIT 15\n",
    "''')\n",
    "TOPETS.show()"
   ]
  }
 ],
 "metadata": {
  "application/vnd.databricks.v1+notebook": {
   "dashboards": [],
   "environmentMetadata": null,
   "language": "python",
   "notebookMetadata": {
    "mostRecentlyExecutedCommandWithImplicitDF": {
     "commandId": -1,
     "dataframes": [
      "_sqldf"
     ]
    },
    "pythonIndentUnit": 4
   },
   "notebookName": "BAC (1)",
   "widgets": {}
  }
 },
 "nbformat": 4,
 "nbformat_minor": 0
}
